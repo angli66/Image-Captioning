{
 "cells": [
  {
   "cell_type": "code",
   "execution_count": null,
   "metadata": {},
   "outputs": [],
   "source": [
    "from file_utils import read_file_in_dir\n",
    "from dataset_factory import get_datasets\n",
    "from model_factory import get_model\n",
    "import torch\n",
    "from IPython.display import Image, display\n",
    "\n",
    "# Specify the experiment name\n",
    "experiment_name = 'arch2'\n",
    "\n",
    "# Load best model\n",
    "config_data = read_file_in_dir(\"./\", f\"{experiment_name}.json\")\n",
    "coco_test, vocab, _, _, test_loader = get_datasets(config_data)\n",
    "model = get_model(config_data, vocab)\n",
    "state_dict = torch.load(f\"./experiment_data/{experiment_name}/best_model.pt\")\n",
    "model.load_state_dict(state_dict)"
   ]
  },
  {
   "cell_type": "markdown",
   "metadata": {},
   "source": [
    "Rerun the next cell to get a random image from the test set and get the reference captions:"
   ]
  },
  {
   "cell_type": "code",
   "execution_count": null,
   "metadata": {},
   "outputs": [],
   "source": [
    "imgs, captions, img_ids = next(iter(test_loader))\n",
    "img_id = img_ids[0]\n",
    "\n",
    "img_path = coco_test.loadImgs(img_id)[0]['file_name']\n",
    "img_path = \"./data/images/test/\" + img_path\n",
    "display(Image(filename=img_path))\n",
    "\n",
    "annotations = coco_test.imgToAnns[img_id]\n",
    "for annotation in annotations:\n",
    "    print(annotation['caption'])"
   ]
  },
  {
   "cell_type": "markdown",
   "metadata": {},
   "source": [
    "Get non-deterministic predicted captions and deterministic predicted captions:"
   ]
  },
  {
   "cell_type": "code",
   "execution_count": null,
   "metadata": {},
   "outputs": [],
   "source": [
    "# Set the temperature\n",
    "temperature = 0.1\n",
    "\n",
    "with torch.no_grad():\n",
    "    model = model.cuda()\n",
    "    imgs = imgs.cuda()\n",
    "    sampled_ids = model.sample(imgs, 20, temperature, False)\n",
    "    sampled_id = next(iter(sampled_ids))\n",
    "    # Get predicted caption\n",
    "    predicted_caption = \"\"\n",
    "    for i, word_idx in enumerate(sampled_id):\n",
    "        if i == 0:\n",
    "            continue\n",
    "        word = vocab.idx2word[word_idx.item()]\n",
    "        if word == '<end>':\n",
    "            break\n",
    "        predicted_caption += word + ' '\n",
    "    print(\"Non-deterministic:\")\n",
    "    print(predicted_caption)\n",
    "\n",
    "with torch.no_grad():\n",
    "    model = model.cuda()\n",
    "    imgs = imgs.cuda()\n",
    "    sampled_ids = model.sample(imgs, 20, temperature, True)\n",
    "    sampled_id = next(iter(sampled_ids))\n",
    "    # Get predicted caption\n",
    "    predicted_caption = \"\"\n",
    "    for i, word_idx in enumerate(sampled_id):\n",
    "        if i == 0:\n",
    "            continue\n",
    "        word = vocab.idx2word[word_idx.item()]\n",
    "        if word == '<end>':\n",
    "            break\n",
    "        predicted_caption += word + ' '\n",
    "    print(\"Deterministic:\")\n",
    "    print(predicted_caption)"
   ]
  }
 ],
 "metadata": {
  "interpreter": {
   "hash": "b3480ad46692348996eb66348da0a56b2f9360999187e0d41c8873d48f13026f"
  },
  "kernelspec": {
   "display_name": "Python 3.9.7 ('dl')",
   "language": "python",
   "name": "python3"
  },
  "language_info": {
   "codemirror_mode": {
    "name": "ipython",
    "version": 3
   },
   "file_extension": ".py",
   "mimetype": "text/x-python",
   "name": "python",
   "nbconvert_exporter": "python",
   "pygments_lexer": "ipython3",
   "version": "3.9.7"
  },
  "orig_nbformat": 4
 },
 "nbformat": 4,
 "nbformat_minor": 2
}
