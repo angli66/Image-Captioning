{
 "cells": [
  {
   "cell_type": "code",
   "execution_count": null,
   "metadata": {},
   "outputs": [],
   "source": [
    "from file_utils import read_file_in_dir\n",
    "from dataset_factory import get_datasets\n",
    "from model_factory import get_model\n",
    "import torch\n",
    "from IPython.display import Image\n",
    "import nltk"
   ]
  },
  {
   "cell_type": "code",
   "execution_count": null,
   "metadata": {},
   "outputs": [],
   "source": [
    "# Specify the experiment name\n",
    "experiment_name = 'lstm_1'"
   ]
  },
  {
   "cell_type": "code",
   "execution_count": null,
   "metadata": {},
   "outputs": [],
   "source": [
    "# Load best model\n",
    "config_data = read_file_in_dir(\"./\", f\"{experiment_name}.json\")\n",
    "coco_test, vocab, _, _, test_loader = get_datasets(config_data)\n",
    "model = get_model(config_data, vocab)\n",
    "state_dict = torch.load(f\"./experiment_data/{experiment_name}/best_model.pt\")\n",
    "model.load_state_dict(state_dict)\n",
    "\n",
    "# Load latest model\n",
    "# config_data = read_file_in_dir(\"./\", f\"{experiment_name}.json\")\n",
    "# coco_test, vocab, _, _, test_loader = get_datasets(config_data)\n",
    "# model = get_model(config_data, vocab)\n",
    "# state_dict = torch.load(f\"./experiment_data/{experiment_name}/latest_model.pt\")\n",
    "# model.load_state_dict(state_dict['model'])"
   ]
  },
  {
   "cell_type": "code",
   "execution_count": null,
   "metadata": {},
   "outputs": [],
   "source": [
    "imgs, captions, img_ids = next(iter(test_loader))\n",
    "img = imgs[0].unsqueeze(0)\n",
    "caption = captions[0].unsqueeze(0)\n",
    "img_id = img_ids[0]"
   ]
  },
  {
   "cell_type": "code",
   "execution_count": null,
   "metadata": {},
   "outputs": [],
   "source": [
    "img_path = coco_test.loadImgs(img_id)[0]['file_name']\n",
    "img_path = \"./data/images/test/\" + img_path\n",
    "Image(filename=img_path) "
   ]
  },
  {
   "cell_type": "code",
   "execution_count": null,
   "metadata": {},
   "outputs": [],
   "source": [
    "if torch.cuda.is_available():\n",
    "    model.cuda()\n",
    "    img = img.cuda() \n",
    "    caption = caption.cuda()\n",
    "\n",
    "with torch.no_grad():\n",
    "    output = model(img, caption)\n",
    "    output = torch.argmax(output, dim=-1).squeeze()\n",
    "\n",
    "target_caption = \"\"\n",
    "for word_idx in caption.squeeze():\n",
    "    word = vocab.idx2word[word_idx.item()]\n",
    "    target_caption += word + ' '\n",
    "\n",
    "print(target_caption)\n",
    "\n",
    "predicted_caption = \"\"\n",
    "for word_idx in output:\n",
    "    word = vocab.idx2word[word_idx.item()]\n",
    "    predicted_caption += word + ' '\n",
    "\n",
    "print(predicted_caption)"
   ]
  },
  {
   "cell_type": "code",
   "execution_count": null,
   "metadata": {},
   "outputs": [],
   "source": [
    "with torch.no_grad():\n",
    "    sampled_ids = model.sample(img, 20, 0.1, False)\n",
    "    for i, sampled_id in enumerate(sampled_ids):\n",
    "        # Get predicted caption\n",
    "        predicted_caption = \"\"\n",
    "        for j, word_idx in enumerate(sampled_id):\n",
    "            if j == 0:\n",
    "                continue\n",
    "            word = vocab.idx2word[word_idx.item()]\n",
    "            if word == '<end>':\n",
    "                break\n",
    "            predicted_caption += word + ' '\n",
    "        predicted_caption = nltk.tokenize.word_tokenize(predicted_caption)\n",
    "        print(predicted_caption)"
   ]
  }
 ],
 "metadata": {
  "interpreter": {
   "hash": "b3480ad46692348996eb66348da0a56b2f9360999187e0d41c8873d48f13026f"
  },
  "kernelspec": {
   "display_name": "Python 3.9.7 ('dl')",
   "language": "python",
   "name": "python3"
  },
  "language_info": {
   "codemirror_mode": {
    "name": "ipython",
    "version": 3
   },
   "file_extension": ".py",
   "mimetype": "text/x-python",
   "name": "python",
   "nbconvert_exporter": "python",
   "pygments_lexer": "ipython3",
   "version": "3.8.10"
  },
  "orig_nbformat": 4
 },
 "nbformat": 4,
 "nbformat_minor": 2
}
