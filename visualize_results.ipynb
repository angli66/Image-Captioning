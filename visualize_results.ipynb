{
 "cells": [
  {
   "cell_type": "code",
   "execution_count": null,
   "metadata": {},
   "outputs": [],
   "source": [
    "from file_utils import read_file_in_dir\n",
    "from dataset_factory import get_datasets\n",
    "from model_factory import get_model\n",
    "import torch\n",
    "import os"
   ]
  },
  {
   "cell_type": "code",
   "execution_count": null,
   "metadata": {},
   "outputs": [],
   "source": [
    "# Specify the experiment name\n",
    "experiment_name = 'experiment_1'"
   ]
  },
  {
   "cell_type": "code",
   "execution_count": null,
   "metadata": {},
   "outputs": [],
   "source": [
    "config_data = read_file_in_dir(\"./\", f\"{experiment_name}.json\")\n",
    "coco_test, vocab, _, _, test_loader = get_datasets(config_data)\n",
    "model = get_model(config_data, vocab)\n",
    "state_dict = torch.load(f\"./experiment_data/{experiment_name}/best_model.pt\")\n",
    "model.load_state_dict(state_dict)"
   ]
  }
 ],
 "metadata": {
  "language_info": {
   "name": "python"
  },
  "orig_nbformat": 4
 },
 "nbformat": 4,
 "nbformat_minor": 2
}
